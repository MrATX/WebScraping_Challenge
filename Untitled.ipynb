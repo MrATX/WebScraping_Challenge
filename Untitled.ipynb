{
 "cells": [
  {
   "cell_type": "code",
   "execution_count": 1,
   "metadata": {},
   "outputs": [],
   "source": [
    "from splinter import Browser\n",
    "from bs4 import BeautifulSoup\n",
    "import cssutils"
   ]
  },
  {
   "cell_type": "code",
   "execution_count": 2,
   "metadata": {},
   "outputs": [],
   "source": [
    "executable_path = {'executable_path':'C:/Users/JayDub/Downloads/chromedriver_win32/chromedriver.exe'}\n",
    "browser = Browser('chrome', **executable_path, headless=False)"
   ]
  },
  {
   "cell_type": "code",
   "execution_count": 3,
   "metadata": {},
   "outputs": [],
   "source": [
    "url = \"https://mars.nasa.gov/news/?page=0&per_page=40&order=publish_date+desc%2Ccreated_at+desc&search=&category=19%2C165%2C184%2C204&blank_scope=Latest\"\n",
    "browser.visit(url)"
   ]
  },
  {
   "cell_type": "code",
   "execution_count": 5,
   "metadata": {},
   "outputs": [
    {
     "name": "stdout",
     "output_type": "stream",
     "text": [
      "My Culture, My Voice\n",
      "-----------\n",
      "In honor of Hispanic Heritage Month, Christina Hernandez, an instrument engineer on the Mars 2020 mission, talks about her childhood and journey to NASA.\n"
     ]
    }
   ],
   "source": [
    "# HTML object\n",
    "html = browser.html\n",
    "# Parse HTML with Beautiful Soup\n",
    "soup = BeautifulSoup(html, 'html.parser')\n",
    "# Retrieve Top News Article\n",
    "articles = soup.find('li', class_='slide')\n",
    "# Use Beautiful Soup's find() method to navigate and retrieve attributes\n",
    "container = articles.find('div', class_=\"image_and_description_container\")\n",
    "text = container.find('div', class_=\"list_text\")\n",
    "news_title = text.find('div',class_=\"content_title\")\n",
    "news_title = news_title.find('a')\n",
    "news_title = news_title.text.strip()\n",
    "news_p = container.find('div',class_=\"article_teaser_body\")\n",
    "news_p = news_p.text.strip()\n",
    "\n",
    "print(news_title)\n",
    "print('-----------')\n",
    "print(news_p)\n",
    "\n",
    "# Click the 'Next' button on each page\n",
    "#try:\n",
    "    #browser.links.find_by_partial_text('next').click()\n",
    "\n",
    "#except:\n",
    "    #print(\"Scraping Complete\")"
   ]
  },
  {
   "cell_type": "code",
   "execution_count": 17,
   "metadata": {},
   "outputs": [],
   "source": [
    "url = \"https://www.jpl.nasa.gov/spaceimages/?search=&category=Mars\"\n",
    "browser.visit(url)"
   ]
  },
  {
   "cell_type": "code",
   "execution_count": 20,
   "metadata": {},
   "outputs": [
    {
     "name": "stdout",
     "output_type": "stream",
     "text": [
      "https://www.jpl.nasa.gov/spaceimages/?search=&category=Mars/spaceimages/images/wallpaper/PIA18322-1920x1200.jpg\n"
     ]
    }
   ],
   "source": [
    "# HTML object\n",
    "html = browser.html\n",
    "# Parse HTML with Beautiful Soup\n",
    "soup = BeautifulSoup(html, 'html.parser')\n",
    "# Retrieve header containing featured image\n",
    "image_container = soup.find('article', class_='carousel_item')\n",
    "# Use Beautiful Soup's find() method to navigate and retrieve attributes\n",
    "featured_image_url = image_container['style']\n",
    "\n",
    "\n",
    "#div_style = featured_image_url('style')\n",
    "style = cssutils.parseStyle(featured_image_url)\n",
    "featured_image_url = style['background-image']\n",
    "featured_image_url = featured_image_url.replace('url(', '').replace(')', '')\n",
    "featured_image_url = (f'{url}{featured_image_url}')\n",
    "\n",
    "\n",
    "#print(articles)\n",
    "print(featured_image_url)"
   ]
  },
  {
   "cell_type": "code",
   "execution_count": null,
   "metadata": {},
   "outputs": [],
   "source": []
  }
 ],
 "metadata": {
  "kernelspec": {
   "display_name": "pythondata",
   "language": "python",
   "name": "pythondata"
  },
  "language_info": {
   "codemirror_mode": {
    "name": "ipython",
    "version": 3
   },
   "file_extension": ".py",
   "mimetype": "text/x-python",
   "name": "python",
   "nbconvert_exporter": "python",
   "pygments_lexer": "ipython3",
   "version": "3.6.10"
  }
 },
 "nbformat": 4,
 "nbformat_minor": 4
}
